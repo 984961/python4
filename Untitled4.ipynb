{
  "nbformat": 4,
  "nbformat_minor": 0,
  "metadata": {
    "colab": {
      "provenance": []
    },
    "kernelspec": {
      "name": "python3",
      "display_name": "Python 3"
    },
    "language_info": {
      "name": "python"
    }
  },
  "cells": [
    {
      "cell_type": "code",
      "execution_count": null,
      "metadata": {
        "id": "qplO61DXEXMO"
      },
      "outputs": [],
      "source": []
    },
    {
      "cell_type": "markdown",
      "source": [
        "#Problem 1: Probability below a value\n",
        "### The average height of adult males is 175 cm with a standard deviation of 10 cm. What is the probability that a randomly selected male is shorter than 160 cm?"
      ],
      "metadata": {
        "id": "GVlwP0u0EcNq"
      }
    },
    {
      "cell_type": "code",
      "source": [
        "x=175\n",
        "sd=10\n",
        "m=160"
      ],
      "metadata": {
        "id": "kXfyYs9eEfHN"
      },
      "execution_count": null,
      "outputs": []
    },
    {
      "cell_type": "code",
      "source": [
        "z=(m-x)/sd\n",
        "print(z)\n"
      ],
      "metadata": {
        "colab": {
          "base_uri": "https://localhost:8080/"
        },
        "id": "W_66TqzMEvCW",
        "outputId": "5f395863-483f-4ec1-c719-4597a62ad595"
      },
      "execution_count": null,
      "outputs": [
        {
          "output_type": "stream",
          "name": "stdout",
          "text": [
            "-1.5\n"
          ]
        }
      ]
    },
    {
      "cell_type": "code",
      "source": [],
      "metadata": {
        "id": "n8fWSVyzE4Pn"
      },
      "execution_count": null,
      "outputs": []
    },
    {
      "cell_type": "markdown",
      "source": [
        "#Problem 2: Probability above a value\n",
        "### What is the probability that a male is taller than 185 cm?"
      ],
      "metadata": {
        "id": "LCPr0lWvE_5k"
      }
    },
    {
      "cell_type": "code",
      "source": [
        "x=185\n",
        "sd=10\n",
        "m=175"
      ],
      "metadata": {
        "id": "YDlktQ7DFfk7"
      },
      "execution_count": null,
      "outputs": []
    },
    {
      "cell_type": "code",
      "source": [
        "z=(m-x)/sd\n",
        "print(z)"
      ],
      "metadata": {
        "colab": {
          "base_uri": "https://localhost:8080/"
        },
        "id": "If7zLtJkFtO_",
        "outputId": "2051a042-1968-4875-d3a9-01d68bee8fbb"
      },
      "execution_count": null,
      "outputs": [
        {
          "output_type": "stream",
          "name": "stdout",
          "text": [
            "-1.0\n"
          ]
        }
      ]
    },
    {
      "cell_type": "code",
      "source": [],
      "metadata": {
        "id": "FGG_QZ-dFy1Q"
      },
      "execution_count": null,
      "outputs": []
    },
    {
      "cell_type": "markdown",
      "source": [
        "#Problem 3: Probability between two values\n",
        "### What's the probability that a male is between 165 cm and 185 cm?"
      ],
      "metadata": {
        "id": "EQJxUGSZGUK3"
      }
    },
    {
      "cell_type": "code",
      "source": [
        "x1=165\n",
        "x2=185\n",
        "sd=10\n",
        "m=175"
      ],
      "metadata": {
        "id": "ud99Tu5TGWzP"
      },
      "execution_count": null,
      "outputs": []
    },
    {
      "cell_type": "code",
      "source": [
        "z1=(x1-m)/sd\n",
        "z2=(x2-m)/sd\n",
        "print(z1)\n",
        "print(z2)"
      ],
      "metadata": {
        "colab": {
          "base_uri": "https://localhost:8080/"
        },
        "id": "geBHf7LoG6x5",
        "outputId": "9852e41e-9c08-45ab-a2e7-169ec976a724"
      },
      "execution_count": null,
      "outputs": [
        {
          "output_type": "stream",
          "name": "stdout",
          "text": [
            "-1.0\n",
            "1.0\n"
          ]
        }
      ]
    },
    {
      "cell_type": "code",
      "source": [],
      "metadata": {
        "id": "0zYvqLvUG81Z"
      },
      "execution_count": null,
      "outputs": []
    },
    {
      "cell_type": "markdown",
      "source": [
        "#Problem 4: Find the value at a percentile\n",
        "### What is the height corresponding to the 90th percentile?"
      ],
      "metadata": {
        "id": "oUd7StLxHcyW"
      }
    },
    {
      "cell_type": "code",
      "source": [
        "x=175\n",
        "sd=10\n",
        "z=1.2"
      ],
      "metadata": {
        "id": "lSI2WuVAHfhL"
      },
      "execution_count": null,
      "outputs": []
    },
    {
      "cell_type": "code",
      "source": [
        "x=z*sd+x\n",
        "print(x)"
      ],
      "metadata": {
        "colab": {
          "base_uri": "https://localhost:8080/"
        },
        "id": "rEAhQjEsH1Gb",
        "outputId": "3f9d9c4a-57a8-44d6-8065-73adbc6cd18c"
      },
      "execution_count": null,
      "outputs": [
        {
          "output_type": "stream",
          "name": "stdout",
          "text": [
            "187.0\n"
          ]
        }
      ]
    },
    {
      "cell_type": "code",
      "source": [],
      "metadata": {
        "id": "dhCemBpDH3ZG"
      },
      "execution_count": null,
      "outputs": []
    },
    {
      "cell_type": "markdown",
      "source": [
        "#Q: A sample of 50 males is taken. What is the probability that the sample mean height is greater than 177 cm?"
      ],
      "metadata": {
        "id": "4p4kR2NFJSCz"
      }
    },
    {
      "cell_type": "code",
      "source": [
        "x=177\n",
        "sd=10\n",
        "m=175\n",
        "n=50"
      ],
      "metadata": {
        "id": "cgkUzOBbKK1H"
      },
      "execution_count": 40,
      "outputs": []
    },
    {
      "cell_type": "code",
      "source": [
        "se=sd/n**0.5\n",
        "print(se)"
      ],
      "metadata": {
        "colab": {
          "base_uri": "https://localhost:8080/"
        },
        "id": "p9zzJniAKTVK",
        "outputId": "b5ec9488-b6f1-4d9d-f4c3-69fa227a85d2"
      },
      "execution_count": 41,
      "outputs": [
        {
          "output_type": "stream",
          "name": "stdout",
          "text": [
            "1.414213562373095\n"
          ]
        }
      ]
    },
    {
      "cell_type": "code",
      "source": [
        "z=(x-m)/se\n",
        "print(z)"
      ],
      "metadata": {
        "colab": {
          "base_uri": "https://localhost:8080/"
        },
        "id": "S0WJX3IvKaPq",
        "outputId": "d8d13c7f-f48a-468b-eb98-7ccb3de1adc5"
      },
      "execution_count": 43,
      "outputs": [
        {
          "output_type": "stream",
          "name": "stdout",
          "text": [
            "1.4142135623730951\n"
          ]
        }
      ]
    },
    {
      "cell_type": "code",
      "source": [],
      "metadata": {
        "id": "cPQcoPwORgBm"
      },
      "execution_count": null,
      "outputs": []
    },
    {
      "cell_type": "markdown",
      "source": [
        "#Problem 6: Z-score of an exam score\n",
        "### A student scores 85 in an exam where the average is 70 and standard deviation is 10. What is the Z-score?"
      ],
      "metadata": {
        "id": "FawvMGM6R20Z"
      }
    },
    {
      "cell_type": "code",
      "source": [
        "x=85\n",
        "m=70\n",
        "sd=10"
      ],
      "metadata": {
        "id": "GzrlDsQ5SAou"
      },
      "execution_count": 20,
      "outputs": []
    },
    {
      "cell_type": "code",
      "source": [
        "z=(x-m)/sd\n",
        "print(z)"
      ],
      "metadata": {
        "colab": {
          "base_uri": "https://localhost:8080/"
        },
        "id": "JAgFdWiqSE-v",
        "outputId": "e32167ad-fdea-4d94-dcc9-191d4d61aad6"
      },
      "execution_count": 22,
      "outputs": [
        {
          "output_type": "stream",
          "name": "stdout",
          "text": [
            "1.5\n"
          ]
        }
      ]
    },
    {
      "cell_type": "code",
      "source": [],
      "metadata": {
        "id": "ASRlItEmSJiv"
      },
      "execution_count": null,
      "outputs": []
    },
    {
      "cell_type": "markdown",
      "source": [
        "#Problem 7: Determine the cutoff for top 5% What test score is needed to be in the top 5% of students?"
      ],
      "metadata": {
        "id": "_aJ-OfUvSSC2"
      }
    },
    {
      "cell_type": "code",
      "source": [
        "m=70\n",
        "sd=10\n",
        "z=1.645"
      ],
      "metadata": {
        "id": "pDuclmcASgX4"
      },
      "execution_count": 23,
      "outputs": []
    },
    {
      "cell_type": "code",
      "source": [
        "x=z*sd+m\n",
        "print(x)"
      ],
      "metadata": {
        "colab": {
          "base_uri": "https://localhost:8080/"
        },
        "id": "F-joHG3MSl-J",
        "outputId": "e5bcc083-8bf0-494e-ec2f-63bbbb412a88"
      },
      "execution_count": 24,
      "outputs": [
        {
          "output_type": "stream",
          "name": "stdout",
          "text": [
            "86.45\n"
          ]
        }
      ]
    },
    {
      "cell_type": "code",
      "source": [],
      "metadata": {
        "id": "jSzS_f9aSrpt"
      },
      "execution_count": null,
      "outputs": []
    },
    {
      "cell_type": "markdown",
      "source": [
        "#Problem 8: Comparing two Z-scores\n",
        "### John scores 80 on Math (mean=70, std=5). Jane scores 88 on English (mean=85, std=4). Who performed better?"
      ],
      "metadata": {
        "id": "fpVWGJWoSxiQ"
      }
    },
    {
      "cell_type": "code",
      "source": [
        "m1=70\n",
        "sd1=5\n",
        "x1=80\n",
        "m2=85\n",
        "sd2=4\n",
        "x=88"
      ],
      "metadata": {
        "id": "m5_flJbvSzeG"
      },
      "execution_count": 25,
      "outputs": []
    },
    {
      "cell_type": "code",
      "source": [
        "z1=(x1-m1)/sd1\n",
        "z2=(x-m2)/sd2\n",
        "print(z1)\n",
        "print(z2)"
      ],
      "metadata": {
        "colab": {
          "base_uri": "https://localhost:8080/"
        },
        "id": "ZLtj1ToOTDsX",
        "outputId": "887e6f72-d8e8-4279-cfe5-fea7c670d862"
      },
      "execution_count": 26,
      "outputs": [
        {
          "output_type": "stream",
          "name": "stdout",
          "text": [
            "2.0\n",
            "0.75\n"
          ]
        }
      ]
    },
    {
      "cell_type": "code",
      "source": [
        "c=z1==z2\n",
        "print(c)"
      ],
      "metadata": {
        "colab": {
          "base_uri": "https://localhost:8080/"
        },
        "id": "jaNUOmQ1TQO_",
        "outputId": "ca2186a9-72b7-4193-a7c5-ad3582e58ea6"
      },
      "execution_count": 27,
      "outputs": [
        {
          "output_type": "stream",
          "name": "stdout",
          "text": [
            "False\n"
          ]
        }
      ]
    },
    {
      "cell_type": "code",
      "source": [],
      "metadata": {
        "id": "BHNj12W3TWk8"
      },
      "execution_count": null,
      "outputs": []
    },
    {
      "cell_type": "markdown",
      "source": [
        "#Problem 9: Find probability of Z < -2.33\n",
        "### Find the probability that a Z-score is less than -2.33."
      ],
      "metadata": {
        "id": "PJk8wuCGTgNn"
      }
    },
    {
      "cell_type": "code",
      "source": [
        "z = -2.33\n",
        "\n",
        "print(\"P Z < -2.33\")"
      ],
      "metadata": {
        "colab": {
          "base_uri": "https://localhost:8080/"
        },
        "id": "QWUq-w1bTm56",
        "outputId": "525c601a-34d3-4069-caf5-bed423a631c3"
      },
      "execution_count": 31,
      "outputs": [
        {
          "output_type": "stream",
          "name": "stdout",
          "text": [
            "P Z < -2.33\n"
          ]
        }
      ]
    },
    {
      "cell_type": "code",
      "source": [],
      "metadata": {
        "id": "jBfS8jC5UNro"
      },
      "execution_count": null,
      "outputs": []
    },
    {
      "cell_type": "markdown",
      "source": [
        "#Problem 10: Value corresponding to a Z-score\n",
        "### In a standardized test (mean=1000, std=200), what score corresponds to a Z-score of -1.25?"
      ],
      "metadata": {
        "id": "Cgif-aMiUvtX"
      }
    },
    {
      "cell_type": "code",
      "source": [
        "m=1000\n",
        "sd=200\n",
        "z=-1.25"
      ],
      "metadata": {
        "id": "iTG44d0SUyhq"
      },
      "execution_count": 45,
      "outputs": []
    },
    {
      "cell_type": "code",
      "source": [
        "x=(z*sd)+m\n",
        "print(x)"
      ],
      "metadata": {
        "colab": {
          "base_uri": "https://localhost:8080/"
        },
        "id": "_PPEWOmkVJQe",
        "outputId": "5ee04102-b2e0-4e3d-94c5-f8d46eef48d0"
      },
      "execution_count": 46,
      "outputs": [
        {
          "output_type": "stream",
          "name": "stdout",
          "text": [
            "750.0\n"
          ]
        }
      ]
    },
    {
      "cell_type": "code",
      "source": [],
      "metadata": {
        "id": "3kaAWGiaVPCX"
      },
      "execution_count": null,
      "outputs": []
    }
  ]
}